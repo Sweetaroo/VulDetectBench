{
 "cells": [
  {
   "cell_type": "code",
   "execution_count": 1,
   "metadata": {},
   "outputs": [],
   "source": [
    "import json\n",
    "def extract_code(task_no,file_path):\n",
    "    with open(file_path,'r')as f:\n",
    "        all_items=[json.loads(line) for line in f.readlines()]\n",
    "    with open(f'/home/fnii/workspace/vuldetectbench/VulDetectBench/dataset/test/task{task_no}_code.jsonl','w')as f:\n",
    "        for item in all_items:\n",
    "            # extract code\n",
    "            if task_no==1:\n",
    "                code=item['input'].split('Is the code vulnerable?(YES/NO)')[-1].split(\"\\n\\nYour answer should either be 'YES' or 'NO' only.\")[0]\n",
    "                json.dump({\n",
    "                    'code':code,\n",
    "                    'answer':item['output'],\n",
    "                    'cwe':item['cwe'],\n",
    "                    'idx':item['idx']\n",
    "                },f)    \n",
    "            elif task_no==2:\n",
    "                selection=item['input'].split('What is the vulnerability type of the code?(A/B/C/D/E)')[-1].split('\\n\\n')[0]\n",
    "                code=item['input'].split(selection)[-1].split(\"\\n\\noutput 'A.' or 'B.' or 'C.' or 'D.' or 'E.' only.\")[0]\n",
    "                json.dump({\n",
    "                    'selection':selection,\n",
    "                    'code':code.strip('\\n'),\n",
    "                    'answer':item['output'],\n",
    "                    'cwe':item['cwe'],\n",
    "                    'idx':item['idx']\n",
    "                },f)\n",
    "            elif task_no==3:\n",
    "                code=item['input'].split('Which line of code is the root cause point of the vulnerability?\\n')[-1].split('\\n\\noutput your answer code in the format: `{code}`')[0]\n",
    "                json.dump({\n",
    "                    'code':code.strip('\\n'),\n",
    "                    'answer':item['output'],\n",
    "                    'cwe':item['cwe'],\n",
    "                    'idx':item['idx']\n",
    "                },f) \n",
    "            elif task_no==4:\n",
    "                code=item['input'].split('Which line of code is the trigger point of the vulnerability?\\n')[-1].split('\\n\\noutput your answer code in the format: `{code}`')[0]\n",
    "                json.dump({\n",
    "                    'code':code.strip('\\n'),\n",
    "                    'answer':item['output'],\n",
    "                    'cwe':item['cwe'],\n",
    "                    'idx':item['idx']\n",
    "                },f) \n",
    "            elif task_no==5:\n",
    "                code=item['input'].split('What data objects and functions in the code may lead to vulnerability?\\n')[-1].split('\\n\\noutput data objects and functions in the format: `{code}` if your answer contains any.')[0]\n",
    "                json.dump({\n",
    "                    'code':code.strip('\\n'),\n",
    "                    'answer':item['output'],\n",
    "                    'cwe':item['cwe'],\n",
    "                    'idx':item['idx']\n",
    "                },f) \n",
    "            f.write('\\n')\n",
    "# purify task1\n"
   ]
  },
  {
   "cell_type": "code",
   "execution_count": 2,
   "metadata": {},
   "outputs": [],
   "source": [
    "for task in [[1,'/home/fnii/workspace/vuldetectbench/task1.jsonl'],\n",
    "             [2,'/home/fnii/workspace/vuldetectbench/task2.jsonl'],\n",
    "             [3,'/home/fnii/workspace/vuldetectbench/task3.jsonl'],\n",
    "             [4,'/home/fnii/workspace/vuldetectbench/task4.jsonl'],\n",
    "             [5,'/home/fnii/workspace/vuldetectbench/task5.jsonl']]:\n",
    "    extract_code(task[0],task[1])"
   ]
  }
 ],
 "metadata": {
  "kernelspec": {
   "display_name": "vul",
   "language": "python",
   "name": "python3"
  },
  "language_info": {
   "codemirror_mode": {
    "name": "ipython",
    "version": 3
   },
   "file_extension": ".py",
   "mimetype": "text/x-python",
   "name": "python",
   "nbconvert_exporter": "python",
   "pygments_lexer": "ipython3",
   "version": "3.8.19"
  }
 },
 "nbformat": 4,
 "nbformat_minor": 2
}
